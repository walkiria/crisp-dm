{
 "cells": [
  {
   "cell_type": "markdown",
   "metadata": {
    "toc": true
   },
   "source": [
    "<h1>Table of Contents<span class=\"tocSkip\"></span></h1>\n",
    "<div class=\"toc\"><ul class=\"toc-item\"><li><span><a href=\"#Business-Understanding-(Entendimento-do-Negócio)\" data-toc-modified-id=\"Business-Understanding-(Entendimento-do-Negócio)-1\"><span class=\"toc-item-num\">1&nbsp;&nbsp;</span>Business Understanding (Entendimento do Negócio)</a></span><ul class=\"toc-item\"><li><span><a href=\"#Determinar-os-objetivos-do-negócio\" data-toc-modified-id=\"Determinar-os-objetivos-do-negócio-1.1\"><span class=\"toc-item-num\">1.1&nbsp;&nbsp;</span>Determinar os objetivos do negócio</a></span><ul class=\"toc-item\"><li><span><a href=\"#Objetivos-de-negócios\" data-toc-modified-id=\"Objetivos-de-negócios-1.1.1\"><span class=\"toc-item-num\">1.1.1&nbsp;&nbsp;</span>Objetivos de negócios</a></span><ul class=\"toc-item\"><li><span><a href=\"#Background\" data-toc-modified-id=\"Background-1.1.1.1\"><span class=\"toc-item-num\">1.1.1.1&nbsp;&nbsp;</span>Background</a></span></li><li><span><a href=\"#Business-objectives\" data-toc-modified-id=\"Business-objectives-1.1.1.2\"><span class=\"toc-item-num\">1.1.1.2&nbsp;&nbsp;</span>Business objectives</a></span></li><li><span><a href=\"#Business-success-criteria\" data-toc-modified-id=\"Business-success-criteria-1.1.1.3\"><span class=\"toc-item-num\">1.1.1.3&nbsp;&nbsp;</span>Business success criteria</a></span></li></ul></li><li><span><a href=\"#Panorama-da-situação\" data-toc-modified-id=\"Panorama-da-situação-1.1.2\"><span class=\"toc-item-num\">1.1.2&nbsp;&nbsp;</span>Panorama da situação</a></span><ul class=\"toc-item\"><li><span><a href=\"#Inventorio-de-recursos\" data-toc-modified-id=\"Inventorio-de-recursos-1.1.2.1\"><span class=\"toc-item-num\">1.1.2.1&nbsp;&nbsp;</span>Inventorio de recursos</a></span></li><li><span><a href=\"#Requisitos,-premissas,-e-restrições\" data-toc-modified-id=\"Requisitos,-premissas,-e-restrições-1.1.2.2\"><span class=\"toc-item-num\">1.1.2.2&nbsp;&nbsp;</span>Requisitos, premissas, e restrições</a></span></li><li><span><a href=\"#Riscos-e-contingências\" data-toc-modified-id=\"Riscos-e-contingências-1.1.2.3\"><span class=\"toc-item-num\">1.1.2.3&nbsp;&nbsp;</span>Riscos e contingências</a></span></li><li><span><a href=\"#Terminologia\" data-toc-modified-id=\"Terminologia-1.1.2.4\"><span class=\"toc-item-num\">1.1.2.4&nbsp;&nbsp;</span>Terminologia</a></span></li><li><span><a href=\"#Custos-e-beneficios\" data-toc-modified-id=\"Custos-e-beneficios-1.1.2.5\"><span class=\"toc-item-num\">1.1.2.5&nbsp;&nbsp;</span>Custos e beneficios</a></span></li></ul></li><li><span><a href=\"#Determinar-os-objetivos-do-projeto-de-ciencia-de-dados\" data-toc-modified-id=\"Determinar-os-objetivos-do-projeto-de-ciencia-de-dados-1.1.3\"><span class=\"toc-item-num\">1.1.3&nbsp;&nbsp;</span>Determinar os objetivos do projeto de ciencia de dados</a></span><ul class=\"toc-item\"><li><span><a href=\"#Objetivos-CDs\" data-toc-modified-id=\"Objetivos-CDs-1.1.3.1\"><span class=\"toc-item-num\">1.1.3.1&nbsp;&nbsp;</span>Objetivos CDs</a></span></li><li><span><a href=\"#Sucesso-do-projeto-de-ciencia-de-dados\" data-toc-modified-id=\"Sucesso-do-projeto-de-ciencia-de-dados-1.1.3.2\"><span class=\"toc-item-num\">1.1.3.2&nbsp;&nbsp;</span>Sucesso do projeto de ciencia de dados</a></span></li></ul></li><li><span><a href=\"#Produce-project-plan\" data-toc-modified-id=\"Produce-project-plan-1.1.4\"><span class=\"toc-item-num\">1.1.4&nbsp;&nbsp;</span>Produce project plan</a></span><ul class=\"toc-item\"><li><span><a href=\"#Plano-do-projeto\" data-toc-modified-id=\"Plano-do-projeto-1.1.4.1\"><span class=\"toc-item-num\">1.1.4.1&nbsp;&nbsp;</span>Plano do projeto</a></span></li><li><span><a href=\"#Avaliação-inicial-de-ferramentas-e-técnicas\" data-toc-modified-id=\"Avaliação-inicial-de-ferramentas-e-técnicas-1.1.4.2\"><span class=\"toc-item-num\">1.1.4.2&nbsp;&nbsp;</span>Avaliação inicial de ferramentas e técnicas</a></span></li></ul></li></ul></li></ul></li><li><span><a href=\"#Data-Understanding\" data-toc-modified-id=\"Data-Understanding-2\"><span class=\"toc-item-num\">2&nbsp;&nbsp;</span>Data Understanding</a></span></li><li><span><a href=\"#Data-Preparation\" data-toc-modified-id=\"Data-Preparation-3\"><span class=\"toc-item-num\">3&nbsp;&nbsp;</span>Data Preparation</a></span></li><li><span><a href=\"#Modeling\" data-toc-modified-id=\"Modeling-4\"><span class=\"toc-item-num\">4&nbsp;&nbsp;</span>Modeling</a></span></li><li><span><a href=\"#Evaluation\" data-toc-modified-id=\"Evaluation-5\"><span class=\"toc-item-num\">5&nbsp;&nbsp;</span>Evaluation</a></span></li><li><span><a href=\"#Deployment\" data-toc-modified-id=\"Deployment-6\"><span class=\"toc-item-num\">6&nbsp;&nbsp;</span>Deployment</a></span></li></ul></div>"
   ]
  },
  {
   "cell_type": "markdown",
   "metadata": {},
   "source": [
    "Referencias:\n",
    "   * https://medium.com/matgonz/crisp-dm-na-pr%C3%A1tica-65be0ee92ada\n",
    "   * https://the-modeling-agency.com/crisp-dm.pdf"
   ]
  },
  {
   "cell_type": "markdown",
   "metadata": {},
   "source": [
    "# Business Understanding (Entendimento do Negócio)\n"
   ]
  },
  {
   "cell_type": "markdown",
   "metadata": {},
   "source": [
    "<img src=\"figures/bu.png\">"
   ]
  },
  {
   "cell_type": "markdown",
   "metadata": {},
   "source": [
    "Este é o estágio mais importante porque é aqui que a intenção do projeto é definida. Requer comunicação e clareza. A dificuldade aqui é que normalmente os stakeholders tem objetivos, vieses e maneiras de lidar com a informação diferentes. Eles não veem as coisas da mesma maneira. Sem uma perspectiva clara, consisa e completa de quais são os objetivos do projeto, recursos serão desperdiçados.\n",
    "\n",
    "Sem finalizar essa etapa, os dados não podem ser coletados, pois não sabemos exatamente o que usar e qual abordagem analítica será testada. Além de determinar os objetivos do negocio, é importante entender também os objetivos da analise de dados, para que o projeto seja usado."
   ]
  },
  {
   "cell_type": "markdown",
   "metadata": {},
   "source": [
    "Isso ajuda a entender qual será a abordagem analitica utilizada (Como usaremos dados para responder essa questão?)\n",
    "\n",
    "Estabelecer claramente a questão começa por entender o objetivo da pessoa que está fazendo a pergunta."
   ]
  },
  {
   "cell_type": "markdown",
   "metadata": {},
   "source": [
    "## Determinar os objetivos do negócio\n",
    "\n",
    "\n",
    "    \n"
   ]
  },
  {
   "cell_type": "markdown",
   "metadata": {},
   "source": [
    "**Quais os Objetivos Gerais?**\n",
    "**Quais os Objetivos Especificos?**\n",
    "\n",
    "\n",
    "**Qual é o problema que você está tentando resolver?**\n",
    "\n",
    "**Por que ele é importante?**\n",
    "\n",
    "**A partir de uma solução hipotética para o problema, como esta solução afetaria a empresa?**\n",
    "\n",
    "**Temos capacidade de agir com base nessa solução ou também precisamos desenvolver essa habilidade?**\n",
    "\n",
    "**Como vamos medir o sucesso da solução implementada (KPI)? O que faria dela um sucesso? Qual métrica será utilizada?**"
   ]
  },
  {
   "cell_type": "markdown",
   "metadata": {},
   "source": [
    "### Objetivos de negócios"
   ]
  },
  {
   "cell_type": "markdown",
   "metadata": {},
   "source": [
    "#### Background\n",
    "\n",
    "Reúna as informações conhecidas sobre a situação de negócios da organização no início do projeto.\n",
    "Esses detalhes não só servem para identificar mais de perto os objetivos de negócios a serem alcançados, mas também servem para identificar os recursos, tanto humanos como materiais, que podem ser usados ou necessários ao longo do projeto."
   ]
  },
  {
   "cell_type": "markdown",
   "metadata": {},
   "source": [
    "**Organização**\n",
    "\n",
    "* Grafico organizacional: ajuda a identificar areas e os respectivos responsaveis\n",
    "* Identificar pessoas chaves no negócio e seus papeis\n",
    "* Identificar o sponsor (financeiro e usuário principal)\n",
    "* Identificar se existe um comite dirigente e a lista de membros\n",
    "* Identificar as unidades de negócio que serão afetadas pelo projeto de data science (Marketing, Vendas, Finanças) "
   ]
  },
  {
   "cell_type": "markdown",
   "metadata": {},
   "source": [
    "**Problem area**\n",
    "* Identificar a area do problema (marketing, vendas, cliente)\n",
    "* Descrever o problema em termos gerais\n",
    "* Checar o status atual do projeto ( a area afetada já está ciente da realização do projeto)\n",
    "* Esclarecer os prerequisitos do projeto (Qual é a motivação do projeto)\n",
    "* Se necessário introduzir o tema data science para o negócio\n",
    "* Identificar o grupo alvo do resultado do projeto (report para uma area? modelo para um cliente)\n",
    "* Identificar as necessidades e expectativas do cliente"
   ]
  },
  {
   "cell_type": "markdown",
   "metadata": {},
   "source": [
    " #### Business objectives\n",
    " \n",
    " Identificar o objetivo primario, de uma perspectiva do negócio e em seguida, os objetivos secundários."
   ]
  },
  {
   "cell_type": "markdown",
   "metadata": {},
   "source": [
    "* Descrever informalmente o problema a ser solucionado\n",
    "* Especificar todas as questões do negócio precisamente\n",
    "* Especificar quaisquer outros requisitos do negócios (ex.: o negocio não quer perder clientes)\n",
    "* Especificar beneficios esperados em termos do negócio"
   ]
  },
  {
   "cell_type": "markdown",
   "metadata": {},
   "source": [
    "#### Business success criteria\n",
    "\n",
    "Descrever o criterio de sucesso do projeto do ponto de vista do negocio de forma ampla, exemplo, diminuir o churn de clientes"
   ]
  },
  {
   "cell_type": "markdown",
   "metadata": {},
   "source": [
    "* Especificar o criterio de sucesso\n",
    "\n",
    "* Identificar quem avalia os critérios de sucesso"
   ]
  },
  {
   "cell_type": "markdown",
   "metadata": {},
   "source": [
    "### Panorama da situação"
   ]
  },
  {
   "cell_type": "markdown",
   "metadata": {},
   "source": [
    "#### Inventorio de recursos"
   ]
  },
  {
   "cell_type": "markdown",
   "metadata": {},
   "source": [
    "* Hardware disponivel\n",
    "* Bases de dados\n",
    "* Pessoas envolvidas (adm de bancos de dados; acessos;)"
   ]
  },
  {
   "cell_type": "markdown",
   "metadata": {},
   "source": [
    "#### Requisitos, premissas, e restrições"
   ]
  },
  {
   "cell_type": "markdown",
   "metadata": {},
   "source": [
    "* Requisitos: compreensibilidade, acuracia, capacidade de implantação, etc; segurança, restriçoes legais, privacidade, etc\n",
    "* Premissas: o modelo deve ser interpretavel; qualidade do dado; fatores externos\n",
    "* Restrições: acesso, restrição de implantação"
   ]
  },
  {
   "cell_type": "markdown",
   "metadata": {},
   "source": [
    "#### Riscos e contingências"
   ]
  },
  {
   "cell_type": "markdown",
   "metadata": {},
   "source": [
    "* Riscos: negócio, organizacionais, financeiros, técnicos, dados\n",
    "* Contingencias: ter uma contigencia para cada risco pensado"
   ]
  },
  {
   "cell_type": "markdown",
   "metadata": {},
   "source": [
    "#### Terminologia\n",
    "Glossário com termos do negócio e de Ciencia de dados"
   ]
  },
  {
   "cell_type": "markdown",
   "metadata": {},
   "source": [
    "#### Custos e beneficios\n",
    "Comparar os custos com os potenciais beneficios"
   ]
  },
  {
   "cell_type": "markdown",
   "metadata": {},
   "source": [
    "### Determinar os objetivos do projeto de ciencia de dados"
   ]
  },
  {
   "cell_type": "markdown",
   "metadata": {},
   "source": [
    "#### Objetivos CDs\n",
    "\n",
    "* Traduzir as questões do negócio para questões de data science\n",
    "* Especificar o tipo de problema (classificação; regressão)\n"
   ]
  },
  {
   "cell_type": "markdown",
   "metadata": {},
   "source": [
    "#### Sucesso do projeto de ciencia de dados\n",
    "Lembrando que o sucesso do projeto é diferente do sucesso do negócio\n",
    "* Métricas que podem ser utilizadas\n",
    "* Benchmarks\n",
    "* Definir criteriso de sucesso subjetivo(modelo ser interpretavel)"
   ]
  },
  {
   "cell_type": "markdown",
   "metadata": {},
   "source": [
    "### Produce project plan"
   ]
  },
  {
   "cell_type": "markdown",
   "metadata": {},
   "source": [
    "#### Plano do projeto\n",
    "Combinar as atividades"
   ]
  },
  {
   "cell_type": "markdown",
   "metadata": {},
   "source": [
    "#### Avaliação inicial de ferramentas e técnicas\n",
    "Revisar e priorizar tecnicas "
   ]
  },
  {
   "cell_type": "markdown",
   "metadata": {},
   "source": [
    "# Data Understanding \n"
   ]
  },
  {
   "cell_type": "markdown",
   "metadata": {},
   "source": [
    "<img src=\"figures/du.png\">"
   ]
  },
  {
   "cell_type": "markdown",
   "metadata": {},
   "source": [
    "Data understanding relies on business understanding. Data is collected at this stage of the process. The understanding of what the business wants and needs will determine what data is collected, from what sources, and by what methods. CRISP-DM combines the stages of Data Requirements, Data Collection, and Data Understanding from the Foundational Methodology outline."
   ]
  },
  {
   "cell_type": "markdown",
   "metadata": {},
   "source": [
    "* Describe data- Once you have identified the data set, you need to describe its contents and explore insights to better understand the data and its business implications. To describe the data, we can create a data dictionary that lists down the types of variables (e.g. sectors, company names, etc.), the number of records, and the types of analysis."
   ]
  },
  {
   "cell_type": "markdown",
   "metadata": {},
   "source": [
    "* Explore data- To explore data, you can plot simple graphs on Excel/R/Python, e.g. to understand the trend in data or to get a graphical representation of data for better understanding to get useful insights"
   ]
  },
  {
   "cell_type": "markdown",
   "metadata": {},
   "source": [
    "* Os dados estão disponíveis?\n",
    "* Qual a dificuldade para extrair os dados? Essa ação é permitida? Temos acesso?\n",
    "* Precisamos comprar dados?\n",
    "* Definição da variável alvo (modelo supervisionado) ou não (modelo não supervisionado)"
   ]
  },
  {
   "cell_type": "markdown",
   "metadata": {},
   "source": [
    "* Análise exploratória:\n",
    " - Avaliação da qualidade do dado\n",
    " - Análise descritiva resultado de simples agregações (média, mediana, moda, etc)\n",
    " - Análise da distribuição"
   ]
  },
  {
   "cell_type": "markdown",
   "metadata": {},
   "source": [
    "# Data Preparation\n"
   ]
  },
  {
   "cell_type": "markdown",
   "metadata": {},
   "source": [
    "<img src=\"figures/dp.png\">"
   ]
  },
  {
   "cell_type": "markdown",
   "metadata": {},
   "source": [
    "Once the data has been collected, it must be transformed into a useable subset unless it is determined that more data is needed. Once a dataset is chosen, it must then be checked for questionable, missing, or ambiguous cases. Data Preparation is common to CRISP-DM and Foundational Methodology. "
   ]
  },
  {
   "cell_type": "markdown",
   "metadata": {},
   "source": [
    "* The data preparation has various rigorous steps including the following:\n",
    " - Filling missing data\n",
    " - Removing data\n",
    " - Transforming data"
   ]
  },
  {
   "cell_type": "markdown",
   "metadata": {},
   "source": [
    "* Tratar valores nulos e dados inconsistentes\n",
    "* Criação de dados, se necessário (atributos derivados, atributos construídos a partir de um ou de muitos registros), em geral, tendem a vir de uma operação de agregação\n",
    "* Seleção de atributos relevantes para o modelo (feature selection)\n",
    "* Seleção da amostra\n",
    "* Métodos de avaliação do modelo (accuracy, precision, recall, f1 score, confusion matrix, roc curve, cross validation, etc)"
   ]
  },
  {
   "cell_type": "markdown",
   "metadata": {},
   "source": [
    "# Modeling"
   ]
  },
  {
   "cell_type": "markdown",
   "metadata": {},
   "source": [
    "<img src=\"figures/ml.png\">"
   ]
  },
  {
   "cell_type": "markdown",
   "metadata": {},
   "source": [
    "Once prepared for use, the data must be expressed through whatever appropriate models, give meaningful insights, and hopefully new knowledge. This is the purpose of data mining: to create knowledge information that has meaning and utility. The use of models reveals patterns and structures within the data that provide insight into the features of interest. Models are selected on a portion of the data and adjustments are made if necessary. Model selection is an art and science. Both Foundational Methodology and CRISP-DM are required for the subsequent stage. "
   ]
  },
  {
   "cell_type": "markdown",
   "metadata": {},
   "source": [
    "* Técnica selecionada: Documente o modelo escolhido\n",
    "* Motivo da escolha: Alguns modelos possuem específicos pressupostos sobre os dados, por exemplo, todos os atributos possuem uma distribuição uniforme, não permitem valores nulos, atributos categóricos precisam ser transformados, etc\n",
    "* Avaliação do modelo: Descreva, de acordo com o modelo escolhido, um plano para treinar, testar e avaliar o modelo desenvolvido\n",
    "* Estimação de hiperparâmetros: Exemplo: GridSearchCV\n",
    "* Descrevendo o modelo: Após treinar e calibrar o modelo, descreva o resultado obtido, o comportamento do modelo e métricas\n",
    "* Transferir conhecimento para área de negócio"
   ]
  },
  {
   "cell_type": "markdown",
   "metadata": {},
   "source": [
    "# Evaluation"
   ]
  },
  {
   "cell_type": "markdown",
   "metadata": {},
   "source": [
    "<img src=\"figures/ev.png\">"
   ]
  },
  {
   "cell_type": "markdown",
   "metadata": {},
   "source": [
    "The selected model must be tested. This is usually done by having a pre-selected test, set to run the trained model on. This will allow you to see the effectiveness of the model on a set it sees as new. Results from this are used to determine efficacy of the model and foreshadows its role in the next and final stage. "
   ]
  },
  {
   "cell_type": "markdown",
   "metadata": {},
   "source": [
    "* O modelo foi construído conforme esperado e de maneira correta?\n",
    "* Foram utilizados apenas atributos permitidos e disponíveis para análises futuras?"
   ]
  },
  {
   "cell_type": "markdown",
   "metadata": {},
   "source": [
    "# Deployment"
   ]
  },
  {
   "cell_type": "markdown",
   "metadata": {},
   "source": [
    "<img src=\"figures/dpl.png\">"
   ]
  },
  {
   "cell_type": "markdown",
   "metadata": {},
   "source": [
    " In the deployment step, the model is used on new data outside of the scope of the dataset and by new stakeholders. The new interactions at this phase might reveal the new variables and needs for the dataset and model. These new challenges could initiate revision of either business needs and actions, or the model and data, or both."
   ]
  }
 ],
 "metadata": {
  "kernelspec": {
   "display_name": "Python 3",
   "language": "python",
   "name": "python3"
  },
  "language_info": {
   "codemirror_mode": {
    "name": "ipython",
    "version": 3
   },
   "file_extension": ".py",
   "mimetype": "text/x-python",
   "name": "python",
   "nbconvert_exporter": "python",
   "pygments_lexer": "ipython3",
   "version": "3.7.6"
  },
  "toc": {
   "base_numbering": 1,
   "nav_menu": {},
   "number_sections": true,
   "sideBar": true,
   "skip_h1_title": false,
   "title_cell": "Table of Contents",
   "title_sidebar": "Contents",
   "toc_cell": true,
   "toc_position": {},
   "toc_section_display": true,
   "toc_window_display": true
  }
 },
 "nbformat": 4,
 "nbformat_minor": 4
}
